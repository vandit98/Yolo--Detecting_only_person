{
 "cells": [
  {
   "cell_type": "code",
   "execution_count": 1,
   "metadata": {},
   "outputs": [
    {
     "name": "stderr",
     "output_type": "stream",
     "text": [
      "2023-11-16 15:17:02.205908: I tensorflow/tsl/cuda/cudart_stub.cc:28] Could not find cuda drivers on your machine, GPU will not be used.\n",
      "2023-11-16 15:17:02.453325: E tensorflow/compiler/xla/stream_executor/cuda/cuda_dnn.cc:9342] Unable to register cuDNN factory: Attempting to register factory for plugin cuDNN when one has already been registered\n",
      "2023-11-16 15:17:02.453366: E tensorflow/compiler/xla/stream_executor/cuda/cuda_fft.cc:609] Unable to register cuFFT factory: Attempting to register factory for plugin cuFFT when one has already been registered\n",
      "2023-11-16 15:17:02.455242: E tensorflow/compiler/xla/stream_executor/cuda/cuda_blas.cc:1518] Unable to register cuBLAS factory: Attempting to register factory for plugin cuBLAS when one has already been registered\n",
      "2023-11-16 15:17:02.585816: I tensorflow/tsl/cuda/cudart_stub.cc:28] Could not find cuda drivers on your machine, GPU will not be used.\n",
      "2023-11-16 15:17:02.586794: I tensorflow/core/platform/cpu_feature_guard.cc:182] This TensorFlow binary is optimized to use available CPU instructions in performance-critical operations.\n",
      "To enable the following instructions: AVX2 FMA, in other operations, rebuild TensorFlow with the appropriate compiler flags.\n",
      "2023-11-16 15:17:03.771115: W tensorflow/compiler/tf2tensorrt/utils/py_utils.cc:38] TF-TRT Warning: Could not find TensorRT\n",
      "2023-11-16 15:17:05.148141: I tensorflow/compiler/xla/stream_executor/cuda/cuda_gpu_executor.cc:894] successful NUMA node read from SysFS had negative value (-1), but there must be at least one NUMA node, so returning NUMA node zero. See more at https://github.com/torvalds/linux/blob/v6.0/Documentation/ABI/testing/sysfs-bus-pci#L344-L355\n",
      "2023-11-16 15:17:05.289013: W tensorflow/core/common_runtime/gpu/gpu_device.cc:2211] Cannot dlopen some GPU libraries. Please make sure the missing libraries mentioned above are installed properly if you would like to use GPU. Follow the guide at https://www.tensorflow.org/install/gpu for how to download and setup the required libraries for your platform.\n",
      "Skipping registering GPU devices...\n",
      "2023-11-16 15:17:05.401760: W tensorflow/tsl/framework/cpu_allocator_impl.cc:83] Allocation of 708837376 exceeds 10% of free system memory.\n",
      "2023-11-16 15:17:05.620431: W tensorflow/tsl/framework/cpu_allocator_impl.cc:83] Allocation of 708837376 exceeds 10% of free system memory.\n",
      "2023-11-16 15:17:05.806426: W tensorflow/tsl/framework/cpu_allocator_impl.cc:83] Allocation of 708837376 exceeds 10% of free system memory.\n",
      "2023-11-16 15:17:06.458672: W tensorflow/tsl/framework/cpu_allocator_impl.cc:83] Allocation of 708837376 exceeds 10% of free system memory.\n",
      "2023-11-16 15:17:06.710416: W tensorflow/tsl/framework/cpu_allocator_impl.cc:83] Allocation of 708837376 exceeds 10% of free system memory.\n"
     ]
    }
   ],
   "source": [
    "from tensorflow.keras.models import load_model\n",
    "\n",
    "# Load the saved model\n",
    "loaded_model = load_model('emotion_model/')\n"
   ]
  },
  {
   "cell_type": "code",
   "execution_count": 2,
   "metadata": {},
   "outputs": [
    {
     "name": "stdout",
     "output_type": "stream",
     "text": [
      "Model: \"sequential\"\n",
      "_________________________________________________________________\n",
      " Layer (type)                Output Shape              Param #   \n",
      "=================================================================\n",
      " conv2d (Conv2D)             (None, 55, 55, 96)        34944     \n",
      "                                                                 \n",
      " batch_normalization (Batch  (None, 55, 55, 96)        384       \n",
      " Normalization)                                                  \n",
      "                                                                 \n",
      " max_pooling2d (MaxPooling2  (None, 27, 27, 96)        0         \n",
      " D)                                                              \n",
      "                                                                 \n",
      " conv2d_1 (Conv2D)           (None, 27, 27, 256)       2973952   \n",
      "                                                                 \n",
      " batch_normalization_1 (Bat  (None, 27, 27, 256)       1024      \n",
      " chNormalization)                                                \n",
      "                                                                 \n",
      " conv2d_2 (Conv2D)           (None, 27, 27, 384)       885120    \n",
      "                                                                 \n",
      " batch_normalization_2 (Bat  (None, 27, 27, 384)       1536      \n",
      " chNormalization)                                                \n",
      "                                                                 \n",
      " conv2d_3 (Conv2D)           (None, 27, 27, 384)       1327488   \n",
      "                                                                 \n",
      " batch_normalization_3 (Bat  (None, 27, 27, 384)       1536      \n",
      " chNormalization)                                                \n",
      "                                                                 \n",
      " conv2d_4 (Conv2D)           (None, 27, 27, 256)       884992    \n",
      "                                                                 \n",
      " batch_normalization_4 (Bat  (None, 27, 27, 256)       1024      \n",
      " chNormalization)                                                \n",
      "                                                                 \n",
      " max_pooling2d_1 (MaxPoolin  (None, 13, 13, 256)       0         \n",
      " g2D)                                                            \n",
      "                                                                 \n",
      " flatten (Flatten)           (None, 43264)             0         \n",
      "                                                                 \n",
      " dense (Dense)               (None, 4096)              177213440 \n",
      "                                                                 \n",
      " dense_1 (Dense)             (None, 4096)              16781312  \n",
      "                                                                 \n",
      " dense_2 (Dense)             (None, 3)                 12291     \n",
      "                                                                 \n",
      "=================================================================\n",
      "Total params: 200119043 (763.39 MB)\n",
      "Trainable params: 200116291 (763.38 MB)\n",
      "Non-trainable params: 2752 (10.75 KB)\n",
      "_________________________________________________________________\n"
     ]
    }
   ],
   "source": [
    "loaded_model.summary()\n"
   ]
  },
  {
   "cell_type": "code",
   "execution_count": 22,
   "metadata": {},
   "outputs": [
    {
     "name": "stdout",
     "output_type": "stream",
     "text": [
      "1/1 [==============================] - 0s 162ms/step\n",
      "Raw Probabilities: [1. 0. 0.]\n",
      "Predicted Emotion: neutral\n"
     ]
    }
   ],
   "source": [
    "# prediction on a single image\n",
    "import numpy as np\n",
    "from tensorflow.keras.preprocessing import image\n",
    "\n",
    "test_image = image.load_img('happy.jpg', target_size=(227, 227))\n",
    "test_image = image.img_to_array(test_image)\n",
    "test_image = np.expand_dims(test_image, axis=0)\n",
    "result = loaded_model.predict(test_image)\n",
    "result = result[0]\n",
    "# Print the raw probabilities for each class\n",
    "print(\"Raw Probabilities:\", result)\n",
    "\n",
    "# Get the answer with the highest probability\n",
    "ans = ['neutral', 'sad', 'happy']\n",
    "\n",
    "# Find the index of the highest probability\n",
    "max_prob_index = np.argmax(result)\n",
    "\n",
    "# Check if there are multiple emotions with the same probability\n",
    "if np.sum(result == result[max_prob_index]) > 1:\n",
    "    # In case of a tie, prioritize 'happy' over 'sad'\n",
    "    happy_index = 2\n",
    "    sad_index = 1\n",
    "    nuetral_index = 0\n",
    "\n",
    "    # Check if both 'happy' and 'sad' have the same probability\n",
    "    if result[happy_index] == result[sad_index]:\n",
    "        # Set the predicted emotion to 'neutral'\n",
    "        predicted_emotion = 'neutral'\n",
    "    elif result[happy_index]== result[nuetral_index]:\n",
    "        predicted_emotion = 'happy'\n",
    "    else:\n",
    "        # Choose the one with the higher probability\n",
    "        predicted_emotion = ans[happy_index] if result[happy_index] > result[sad_index] else ans[sad_index]\n",
    "else:\n",
    "    # If no tie, choose the emotion with the highest probability\n",
    "    predicted_emotion = ans[max_prob_index]\n",
    "\n",
    "print(\"Predicted Emotion:\", predicted_emotion)\n"
   ]
  },
  {
   "cell_type": "code",
   "execution_count": null,
   "metadata": {},
   "outputs": [],
   "source": []
  }
 ],
 "metadata": {
  "kernelspec": {
   "display_name": "gshiva",
   "language": "python",
   "name": "python3"
  },
  "language_info": {
   "codemirror_mode": {
    "name": "ipython",
    "version": 3
   },
   "file_extension": ".py",
   "mimetype": "text/x-python",
   "name": "python",
   "nbconvert_exporter": "python",
   "pygments_lexer": "ipython3",
   "version": "3.11.5"
  }
 },
 "nbformat": 4,
 "nbformat_minor": 2
}
